{
 "cells": [
  {
   "cell_type": "code",
   "execution_count": 103,
   "id": "308da2c8",
   "metadata": {},
   "outputs": [],
   "source": [
    "import pandas as pd\n",
    "import numpy as np\n",
    "pd.set_option('display.max_columns', None)"
   ]
  },
  {
   "cell_type": "code",
   "execution_count": 104,
   "id": "dbc53f9c",
   "metadata": {},
   "outputs": [
    {
     "name": "stdout",
     "output_type": "stream",
     "text": [
      "(6136, 54)\n"
     ]
    }
   ],
   "source": [
    "df = pd.read_csv(\"cleaned_air_bnb_Jul_26.csv\")\n",
    "print(df.shape)"
   ]
  },
  {
   "cell_type": "code",
   "execution_count": 28,
   "id": "e15f0882",
   "metadata": {},
   "outputs": [],
   "source": [
    "g = df.dropna(subset=['state']).drop_duplicates('city').set_index('city')['state']\n",
    "df['new_state'] = df['state'].fillna(df['city'].map(g))\n",
    "\n",
    "g = df.dropna(subset=['city']).drop_duplicates('new_state').set_index('new_state')['city']\n",
    "df['new_city'] = df['city'].fillna(df['new_state'].map(g))"
   ]
  },
  {
   "cell_type": "code",
   "execution_count": 29,
   "id": "52a0d02d",
   "metadata": {},
   "outputs": [
    {
     "data": {
      "text/plain": [
       "0    Wilaya ya Kajiado\n",
       "1       Nairobi County\n",
       "2    Wilaya ya Kajiado\n",
       "3       Kajiado County\n",
       "4       Kajiado County\n",
       "Name: new_state, dtype: object"
      ]
     },
     "execution_count": 29,
     "metadata": {},
     "output_type": "execute_result"
    }
   ],
   "source": [
    "df['new_state'].head()"
   ]
  },
  {
   "cell_type": "code",
   "execution_count": 38,
   "id": "3a77540d",
   "metadata": {},
   "outputs": [
    {
     "data": {
      "text/html": [
       "<div>\n",
       "<style scoped>\n",
       "    .dataframe tbody tr th:only-of-type {\n",
       "        vertical-align: middle;\n",
       "    }\n",
       "\n",
       "    .dataframe tbody tr th {\n",
       "        vertical-align: top;\n",
       "    }\n",
       "\n",
       "    .dataframe thead th {\n",
       "        text-align: right;\n",
       "    }\n",
       "</style>\n",
       "<table border=\"1\" class=\"dataframe\">\n",
       "  <thead>\n",
       "    <tr style=\"text-align: right;\">\n",
       "      <th></th>\n",
       "      <th>state</th>\n",
       "      <th>city</th>\n",
       "    </tr>\n",
       "  </thead>\n",
       "  <tbody>\n",
       "    <tr>\n",
       "      <th>0</th>\n",
       "      <td>NaN</td>\n",
       "      <td>Ngong</td>\n",
       "    </tr>\n",
       "    <tr>\n",
       "      <th>1</th>\n",
       "      <td>Nairobi County</td>\n",
       "      <td>Nairobi</td>\n",
       "    </tr>\n",
       "  </tbody>\n",
       "</table>\n",
       "</div>"
      ],
      "text/plain": [
       "            state     city\n",
       "0             NaN    Ngong\n",
       "1  Nairobi County  Nairobi"
      ]
     },
     "execution_count": 38,
     "metadata": {},
     "output_type": "execute_result"
    }
   ],
   "source": [
    "s_df = pd.DataFrame(df['state'])\n",
    "s_df['city'] = df['city']\n",
    "#s_df.rename(columns = {'new_state':'state'}, inplace = True)\n",
    "s_df.head(2)"
   ]
  },
  {
   "cell_type": "code",
   "execution_count": 105,
   "id": "0af7e6d7",
   "metadata": {},
   "outputs": [],
   "source": [
    "state_list = ['Baringo','Bomet','Bungoma','Busia','Elgeyo','Mara','Embu','Garissa','Homa Bay','Isiolo','Kajiado','Kakamega','Kericho','Kiambu','Kilifi','Kirinyaga','Kisii','Kisumu','Kitui','Kwale','Laikipia','Lamu','Machakos','Makueni','Mandera','Marsabit','Meru','Migori','Mombasa','Muranga','Nairobi','Nakuru','Nandi','Narok','Nyamira','Nyandarua','Nyeri','Samburu','Siaya','Taita–Taveta','Tana River','Tharaka-Nithi','Trans-Nzoia','Turkana','Uasin Gishu','Vihiga','Wajir','West Pokot']\n",
    "\n",
    "city_list = ['Baragoi','Bondo','Bungoma','Busia','Butere','Dadaab','Diani Beach','Eldoret','Emali','Embu','Garissa','Gede','Gem','Hola','Homa Bay','Isiolo','Kitui','Kibwezi','Kajiado','Kakamega','Kakuma','Kapenguria','Kericho','Keroka','Kiambu','Kilifi','Kisii','Kisumu','Kitale','Lamu','Langata','Litein','Lodwar','Lokichoggio','Londiani','Loyangalani','Machakos','Makindu','Malindi','Mandera','Maralal','Marsabit','Meru','Mombasa','Moyale','Mtwapa','Mumias','Muranga','Mutomo','Nairobi','Naivasha','Nakuru','Namanga','Nanyuki','Naro Moru','Narok','Nyahururu','Nyeri','Ruiru','Siaya','Shimoni','Takaungu','Thika','Ugunja','Vihiga','Voi','Wajir','Watamu','Webuye','Wote','Wundanyi']\n"
   ]
  },
  {
   "cell_type": "code",
   "execution_count": 110,
   "id": "999efb61",
   "metadata": {},
   "outputs": [
    {
     "data": {
      "text/plain": [
       "229"
      ]
     },
     "execution_count": 110,
     "metadata": {},
     "output_type": "execute_result"
    }
   ],
   "source": [
    "df.state.isna().sum()"
   ]
  },
  {
   "cell_type": "code",
   "execution_count": 111,
   "id": "11d79d91",
   "metadata": {},
   "outputs": [
    {
     "data": {
      "text/plain": [
       "252"
      ]
     },
     "execution_count": 111,
     "metadata": {},
     "output_type": "execute_result"
    }
   ],
   "source": [
    "df.city.isna().sum()"
   ]
  },
  {
   "cell_type": "code",
   "execution_count": 108,
   "id": "1af309a9",
   "metadata": {},
   "outputs": [],
   "source": [
    "for stateindf in df['state']:\n",
    "    for i in range(len(state_list)):\n",
    "        if str(stateindf).lower().find(str(state_list[i]).lower()) != -1:\n",
    "            df['state'] = df['state'].replace([stateindf], state_list[i]) \n",
    "            #print(f\"{str(stateindf)} --> {str(state_list[i])}\")"
   ]
  },
  {
   "cell_type": "code",
   "execution_count": 109,
   "id": "4e2513db",
   "metadata": {},
   "outputs": [],
   "source": [
    "for cityindf in df['city']:\n",
    "    for i in range(len(city_list)):\n",
    "        if str(cityindf).lower().find(str(city_list[i]).lower()) != -1:\n",
    "            df['city'] = df['city'].replace([cityindf], city_list[i]) \n",
    "            #print(f\"{str(cityindf)} --> {str(city_list[i])}\")"
   ]
  },
  {
   "cell_type": "code",
   "execution_count": null,
   "id": "e2e24986",
   "metadata": {},
   "outputs": [],
   "source": [
    "df.loc[~df['state'].isin(state_list), 'state'] = np.nan"
   ]
  },
  {
   "cell_type": "code",
   "execution_count": 116,
   "id": "2e668acb",
   "metadata": {},
   "outputs": [],
   "source": [
    "df.loc[~df['city'].isin(city_list), 'city'] = np.nan\n"
   ]
  },
  {
   "cell_type": "code",
   "execution_count": 117,
   "id": "34a1985b",
   "metadata": {},
   "outputs": [
    {
     "data": {
      "text/plain": [
       "Nairobi        2616\n",
       "Mombasa         645\n",
       "Watamu          268\n",
       "Diani Beach     267\n",
       "Malindi         211\n",
       "Nakuru          174\n",
       "Mtwapa          127\n",
       "Nanyuki         125\n",
       "Eldoret         121\n",
       "Kilifi           98\n",
       "Kisumu           70\n",
       "Thika            41\n",
       "Kiambu           40\n",
       "Ruiru            38\n",
       "Meru             38\n",
       "Naivasha         33\n",
       "Kisii            31\n",
       "Kakamega         31\n",
       "Bungoma          29\n",
       "Nyeri            19\n",
       "Narok            18\n",
       "Siaya            16\n",
       "Kericho          16\n",
       "Kitale           14\n",
       "Machakos         13\n",
       "Homa Bay         11\n",
       "Embu              9\n",
       "Busia             8\n",
       "Bondo             7\n",
       "Kajiado           6\n",
       "Nyahururu         5\n",
       "Isiolo            5\n",
       "Wote              4\n",
       "Naro Moru         4\n",
       "Gede              3\n",
       "Kitui             3\n",
       "Ugunja            3\n",
       "Kibwezi           2\n",
       "Keroka            2\n",
       "Voi               2\n",
       "Takaungu          2\n",
       "Shimoni           2\n",
       "Webuye            1\n",
       "Wundanyi          1\n",
       "Vihiga            1\n",
       "Langata           1\n",
       "Mutomo            1\n",
       "Litein            1\n",
       "Mumias            1\n",
       "Name: city, dtype: int64"
      ]
     },
     "execution_count": 117,
     "metadata": {},
     "output_type": "execute_result"
    }
   ],
   "source": [
    "df['city'].value_counts()"
   ]
  },
  {
   "cell_type": "code",
   "execution_count": null,
   "id": "74bc9032",
   "metadata": {},
   "outputs": [],
   "source": []
  }
 ],
 "metadata": {
  "kernelspec": {
   "display_name": "Python 3 (ipykernel)",
   "language": "python",
   "name": "python3"
  },
  "language_info": {
   "codemirror_mode": {
    "name": "ipython",
    "version": 3
   },
   "file_extension": ".py",
   "mimetype": "text/x-python",
   "name": "python",
   "nbconvert_exporter": "python",
   "pygments_lexer": "ipython3",
   "version": "3.10.9"
  }
 },
 "nbformat": 4,
 "nbformat_minor": 5
}
